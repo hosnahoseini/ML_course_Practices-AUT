{
 "cells": [
  {
   "cell_type": "code",
   "execution_count": 148,
   "id": "ab4b54c8-a732-4f1c-9fc0-89d5d91aebe4",
   "metadata": {},
   "outputs": [],
   "source": [
    "import numpy as np\n",
    "import scipy as sp\n",
    "import matplotlib.pyplot as plt\n",
    "import pandas as pd\n",
    "import copy as cp\n",
    "from sklearn import svm\n",
    "from sklearn.metrics import accuracy_score\n",
    "from sklearn.preprocessing import LabelEncoder\n",
    "from sklearn.model_selection import train_test_split\n",
    "from sklearn.model_selection import KFold"
   ]
  },
  {
   "cell_type": "code",
   "execution_count": 149,
   "id": "936e7b17-1c58-41eb-82ee-e8429615f570",
   "metadata": {},
   "outputs": [],
   "source": [
    "df = pd.read_csv(\"Anuran Calls (MFCCs)/Frogs_MFCCs.csv\")"
   ]
  },
  {
   "cell_type": "code",
   "execution_count": 150,
   "id": "a5d0a845-3d3e-4e69-8ea9-902ab92688c4",
   "metadata": {},
   "outputs": [],
   "source": [
    "cont_cols = df.columns.difference(['Family','Genus', 'Species'])\n",
    "cont_cols_df = df[cont_cols]\n",
    "\n",
    "# label encoding categorical features (str-->float)\n",
    "le = LabelEncoder()\n",
    "le.fit(df[\"Family\"])\n",
    "cat_cols_arr = le.transform(df[\"Family\"])\n",
    "cat_cols_df = pd.DataFrame(cat_cols_arr, columns=[\"Family\"])\n",
    "\n",
    "# merge cont&cat dfs\n",
    "df = pd.concat([cont_cols_df, cat_cols_df], axis=1)"
   ]
  },
  {
   "cell_type": "code",
   "execution_count": 151,
   "id": "25fb8217-99a4-48f9-9327-8d2425cd3ff3",
   "metadata": {},
   "outputs": [],
   "source": [
    "X = df.loc[:, df.columns != 'Family']\n",
    "y = df['Family']"
   ]
  },
  {
   "cell_type": "code",
   "execution_count": 152,
   "id": "bbb03f01-a833-445c-a021-a011075056f2",
   "metadata": {},
   "outputs": [],
   "source": [
    "X_train, X_test, y_train, y_test = train_test_split(X, y, test_size=0.3, random_state=42)"
   ]
  },
  {
   "cell_type": "code",
   "execution_count": 153,
   "id": "ae96fd33-dbf6-428b-93c7-bf623da1d10e",
   "metadata": {},
   "outputs": [
    {
     "data": {
      "text/plain": [
       "((5036, 23), (2159, 23))"
      ]
     },
     "execution_count": 153,
     "metadata": {},
     "output_type": "execute_result"
    }
   ],
   "source": [
    "X_train.shape, X_test.shape"
   ]
  },
  {
   "cell_type": "code",
   "execution_count": 154,
   "id": "dc6b7a0c-e24e-499c-8fd8-ad8d4dd9adb3",
   "metadata": {},
   "outputs": [
    {
     "data": {
      "text/html": [
       "<div>\n",
       "<style scoped>\n",
       "    .dataframe tbody tr th:only-of-type {\n",
       "        vertical-align: middle;\n",
       "    }\n",
       "\n",
       "    .dataframe tbody tr th {\n",
       "        vertical-align: top;\n",
       "    }\n",
       "\n",
       "    .dataframe thead th {\n",
       "        text-align: right;\n",
       "    }\n",
       "</style>\n",
       "<table border=\"1\" class=\"dataframe\">\n",
       "  <thead>\n",
       "    <tr style=\"text-align: right;\">\n",
       "      <th></th>\n",
       "      <th>MFCCs_ 1</th>\n",
       "      <th>MFCCs_ 2</th>\n",
       "      <th>MFCCs_ 3</th>\n",
       "      <th>MFCCs_ 4</th>\n",
       "      <th>MFCCs_ 5</th>\n",
       "      <th>MFCCs_ 6</th>\n",
       "      <th>MFCCs_ 7</th>\n",
       "      <th>MFCCs_ 8</th>\n",
       "      <th>MFCCs_ 9</th>\n",
       "      <th>MFCCs_10</th>\n",
       "      <th>...</th>\n",
       "      <th>MFCCs_15</th>\n",
       "      <th>MFCCs_16</th>\n",
       "      <th>MFCCs_17</th>\n",
       "      <th>MFCCs_18</th>\n",
       "      <th>MFCCs_19</th>\n",
       "      <th>MFCCs_20</th>\n",
       "      <th>MFCCs_21</th>\n",
       "      <th>MFCCs_22</th>\n",
       "      <th>RecordID</th>\n",
       "      <th>Family</th>\n",
       "    </tr>\n",
       "  </thead>\n",
       "  <tbody>\n",
       "    <tr>\n",
       "      <th>0</th>\n",
       "      <td>1.0</td>\n",
       "      <td>0.152936</td>\n",
       "      <td>-0.105586</td>\n",
       "      <td>0.200722</td>\n",
       "      <td>0.317201</td>\n",
       "      <td>0.260764</td>\n",
       "      <td>0.100945</td>\n",
       "      <td>-0.150063</td>\n",
       "      <td>-0.171128</td>\n",
       "      <td>0.124676</td>\n",
       "      <td>...</td>\n",
       "      <td>0.135752</td>\n",
       "      <td>-0.024017</td>\n",
       "      <td>-0.108351</td>\n",
       "      <td>-0.077623</td>\n",
       "      <td>-0.009568</td>\n",
       "      <td>0.057684</td>\n",
       "      <td>0.118680</td>\n",
       "      <td>0.014038</td>\n",
       "      <td>1</td>\n",
       "      <td>3</td>\n",
       "    </tr>\n",
       "    <tr>\n",
       "      <th>1</th>\n",
       "      <td>1.0</td>\n",
       "      <td>0.171534</td>\n",
       "      <td>-0.098975</td>\n",
       "      <td>0.268425</td>\n",
       "      <td>0.338672</td>\n",
       "      <td>0.268353</td>\n",
       "      <td>0.060835</td>\n",
       "      <td>-0.222475</td>\n",
       "      <td>-0.207693</td>\n",
       "      <td>0.170883</td>\n",
       "      <td>...</td>\n",
       "      <td>0.163320</td>\n",
       "      <td>0.012022</td>\n",
       "      <td>-0.090974</td>\n",
       "      <td>-0.056510</td>\n",
       "      <td>-0.035303</td>\n",
       "      <td>0.020140</td>\n",
       "      <td>0.082263</td>\n",
       "      <td>0.029056</td>\n",
       "      <td>1</td>\n",
       "      <td>3</td>\n",
       "    </tr>\n",
       "    <tr>\n",
       "      <th>2</th>\n",
       "      <td>1.0</td>\n",
       "      <td>0.152317</td>\n",
       "      <td>-0.082973</td>\n",
       "      <td>0.287128</td>\n",
       "      <td>0.276014</td>\n",
       "      <td>0.189867</td>\n",
       "      <td>0.008714</td>\n",
       "      <td>-0.242234</td>\n",
       "      <td>-0.219153</td>\n",
       "      <td>0.232538</td>\n",
       "      <td>...</td>\n",
       "      <td>0.207338</td>\n",
       "      <td>0.083536</td>\n",
       "      <td>-0.050691</td>\n",
       "      <td>-0.023590</td>\n",
       "      <td>-0.066722</td>\n",
       "      <td>-0.025083</td>\n",
       "      <td>0.099108</td>\n",
       "      <td>0.077162</td>\n",
       "      <td>1</td>\n",
       "      <td>3</td>\n",
       "    </tr>\n",
       "    <tr>\n",
       "      <th>3</th>\n",
       "      <td>1.0</td>\n",
       "      <td>0.224392</td>\n",
       "      <td>0.118985</td>\n",
       "      <td>0.329432</td>\n",
       "      <td>0.372088</td>\n",
       "      <td>0.361005</td>\n",
       "      <td>0.015501</td>\n",
       "      <td>-0.194347</td>\n",
       "      <td>-0.098181</td>\n",
       "      <td>0.270375</td>\n",
       "      <td>...</td>\n",
       "      <td>0.100413</td>\n",
       "      <td>-0.050224</td>\n",
       "      <td>-0.136009</td>\n",
       "      <td>-0.177037</td>\n",
       "      <td>-0.130498</td>\n",
       "      <td>-0.054766</td>\n",
       "      <td>-0.018691</td>\n",
       "      <td>0.023954</td>\n",
       "      <td>1</td>\n",
       "      <td>3</td>\n",
       "    </tr>\n",
       "    <tr>\n",
       "      <th>4</th>\n",
       "      <td>1.0</td>\n",
       "      <td>0.087817</td>\n",
       "      <td>-0.068345</td>\n",
       "      <td>0.306967</td>\n",
       "      <td>0.330923</td>\n",
       "      <td>0.249144</td>\n",
       "      <td>0.006884</td>\n",
       "      <td>-0.265423</td>\n",
       "      <td>-0.172700</td>\n",
       "      <td>0.266434</td>\n",
       "      <td>...</td>\n",
       "      <td>0.219153</td>\n",
       "      <td>0.062837</td>\n",
       "      <td>-0.048885</td>\n",
       "      <td>-0.053074</td>\n",
       "      <td>-0.088550</td>\n",
       "      <td>-0.031346</td>\n",
       "      <td>0.108610</td>\n",
       "      <td>0.079244</td>\n",
       "      <td>1</td>\n",
       "      <td>3</td>\n",
       "    </tr>\n",
       "  </tbody>\n",
       "</table>\n",
       "<p>5 rows × 24 columns</p>\n",
       "</div>"
      ],
      "text/plain": [
       "   MFCCs_ 1  MFCCs_ 2  MFCCs_ 3  MFCCs_ 4  MFCCs_ 5  MFCCs_ 6  MFCCs_ 7  \\\n",
       "0       1.0  0.152936 -0.105586  0.200722  0.317201  0.260764  0.100945   \n",
       "1       1.0  0.171534 -0.098975  0.268425  0.338672  0.268353  0.060835   \n",
       "2       1.0  0.152317 -0.082973  0.287128  0.276014  0.189867  0.008714   \n",
       "3       1.0  0.224392  0.118985  0.329432  0.372088  0.361005  0.015501   \n",
       "4       1.0  0.087817 -0.068345  0.306967  0.330923  0.249144  0.006884   \n",
       "\n",
       "   MFCCs_ 8  MFCCs_ 9  MFCCs_10  ...  MFCCs_15  MFCCs_16  MFCCs_17  MFCCs_18  \\\n",
       "0 -0.150063 -0.171128  0.124676  ...  0.135752 -0.024017 -0.108351 -0.077623   \n",
       "1 -0.222475 -0.207693  0.170883  ...  0.163320  0.012022 -0.090974 -0.056510   \n",
       "2 -0.242234 -0.219153  0.232538  ...  0.207338  0.083536 -0.050691 -0.023590   \n",
       "3 -0.194347 -0.098181  0.270375  ...  0.100413 -0.050224 -0.136009 -0.177037   \n",
       "4 -0.265423 -0.172700  0.266434  ...  0.219153  0.062837 -0.048885 -0.053074   \n",
       "\n",
       "   MFCCs_19  MFCCs_20  MFCCs_21  MFCCs_22  RecordID  Family  \n",
       "0 -0.009568  0.057684  0.118680  0.014038         1       3  \n",
       "1 -0.035303  0.020140  0.082263  0.029056         1       3  \n",
       "2 -0.066722 -0.025083  0.099108  0.077162         1       3  \n",
       "3 -0.130498 -0.054766 -0.018691  0.023954         1       3  \n",
       "4 -0.088550 -0.031346  0.108610  0.079244         1       3  \n",
       "\n",
       "[5 rows x 24 columns]"
      ]
     },
     "execution_count": 154,
     "metadata": {},
     "output_type": "execute_result"
    }
   ],
   "source": [
    "df.head()"
   ]
  },
  {
   "cell_type": "code",
   "execution_count": 155,
   "id": "00cbe51d-8b41-468d-b2c3-8ba93ef1acdc",
   "metadata": {},
   "outputs": [],
   "source": [
    "def calculate_accuracy(clf, X, actual_classes):\n",
    "    predicted_classes = clf.predict(X)\n",
    "    accuracy = accuracy_score(actual_classes, predicted_classes)\n",
    "    return accuracy * 100"
   ]
  },
  {
   "cell_type": "markdown",
   "id": "67a0e51f-c4ee-4896-8628-f4ef6851f994",
   "metadata": {},
   "source": [
    "--------------------"
   ]
  },
  {
   "cell_type": "markdown",
   "id": "434da0a3-825b-4c94-9eda-ee631ee7f2f1",
   "metadata": {},
   "source": [
    "# a) Linear hard svm"
   ]
  },
  {
   "cell_type": "code",
   "execution_count": 156,
   "id": "0deb88f9-bf86-4ef0-b995-17f47a9d345f",
   "metadata": {
    "tags": []
   },
   "outputs": [
    {
     "data": {
      "text/html": [
       "<style>#sk-container-id-8 {color: black;background-color: white;}#sk-container-id-8 pre{padding: 0;}#sk-container-id-8 div.sk-toggleable {background-color: white;}#sk-container-id-8 label.sk-toggleable__label {cursor: pointer;display: block;width: 100%;margin-bottom: 0;padding: 0.3em;box-sizing: border-box;text-align: center;}#sk-container-id-8 label.sk-toggleable__label-arrow:before {content: \"▸\";float: left;margin-right: 0.25em;color: #696969;}#sk-container-id-8 label.sk-toggleable__label-arrow:hover:before {color: black;}#sk-container-id-8 div.sk-estimator:hover label.sk-toggleable__label-arrow:before {color: black;}#sk-container-id-8 div.sk-toggleable__content {max-height: 0;max-width: 0;overflow: hidden;text-align: left;background-color: #f0f8ff;}#sk-container-id-8 div.sk-toggleable__content pre {margin: 0.2em;color: black;border-radius: 0.25em;background-color: #f0f8ff;}#sk-container-id-8 input.sk-toggleable__control:checked~div.sk-toggleable__content {max-height: 200px;max-width: 100%;overflow: auto;}#sk-container-id-8 input.sk-toggleable__control:checked~label.sk-toggleable__label-arrow:before {content: \"▾\";}#sk-container-id-8 div.sk-estimator input.sk-toggleable__control:checked~label.sk-toggleable__label {background-color: #d4ebff;}#sk-container-id-8 div.sk-label input.sk-toggleable__control:checked~label.sk-toggleable__label {background-color: #d4ebff;}#sk-container-id-8 input.sk-hidden--visually {border: 0;clip: rect(1px 1px 1px 1px);clip: rect(1px, 1px, 1px, 1px);height: 1px;margin: -1px;overflow: hidden;padding: 0;position: absolute;width: 1px;}#sk-container-id-8 div.sk-estimator {font-family: monospace;background-color: #f0f8ff;border: 1px dotted black;border-radius: 0.25em;box-sizing: border-box;margin-bottom: 0.5em;}#sk-container-id-8 div.sk-estimator:hover {background-color: #d4ebff;}#sk-container-id-8 div.sk-parallel-item::after {content: \"\";width: 100%;border-bottom: 1px solid gray;flex-grow: 1;}#sk-container-id-8 div.sk-label:hover label.sk-toggleable__label {background-color: #d4ebff;}#sk-container-id-8 div.sk-serial::before {content: \"\";position: absolute;border-left: 1px solid gray;box-sizing: border-box;top: 0;bottom: 0;left: 50%;z-index: 0;}#sk-container-id-8 div.sk-serial {display: flex;flex-direction: column;align-items: center;background-color: white;padding-right: 0.2em;padding-left: 0.2em;position: relative;}#sk-container-id-8 div.sk-item {position: relative;z-index: 1;}#sk-container-id-8 div.sk-parallel {display: flex;align-items: stretch;justify-content: center;background-color: white;position: relative;}#sk-container-id-8 div.sk-item::before, #sk-container-id-8 div.sk-parallel-item::before {content: \"\";position: absolute;border-left: 1px solid gray;box-sizing: border-box;top: 0;bottom: 0;left: 50%;z-index: -1;}#sk-container-id-8 div.sk-parallel-item {display: flex;flex-direction: column;z-index: 1;position: relative;background-color: white;}#sk-container-id-8 div.sk-parallel-item:first-child::after {align-self: flex-end;width: 50%;}#sk-container-id-8 div.sk-parallel-item:last-child::after {align-self: flex-start;width: 50%;}#sk-container-id-8 div.sk-parallel-item:only-child::after {width: 0;}#sk-container-id-8 div.sk-dashed-wrapped {border: 1px dashed gray;margin: 0 0.4em 0.5em 0.4em;box-sizing: border-box;padding-bottom: 0.4em;background-color: white;}#sk-container-id-8 div.sk-label label {font-family: monospace;font-weight: bold;display: inline-block;line-height: 1.2em;}#sk-container-id-8 div.sk-label-container {text-align: center;}#sk-container-id-8 div.sk-container {/* jupyter's `normalize.less` sets `[hidden] { display: none; }` but bootstrap.min.css set `[hidden] { display: none !important; }` so we also need the `!important` here to be able to override the default hidden behavior on the sphinx rendered scikit-learn.org. See: https://github.com/scikit-learn/scikit-learn/issues/21755 */display: inline-block !important;position: relative;}#sk-container-id-8 div.sk-text-repr-fallback {display: none;}</style><div id=\"sk-container-id-8\" class=\"sk-top-container\"><div class=\"sk-text-repr-fallback\"><pre>SVC(kernel=&#x27;linear&#x27;)</pre><b>In a Jupyter environment, please rerun this cell to show the HTML representation or trust the notebook. <br />On GitHub, the HTML representation is unable to render, please try loading this page with nbviewer.org.</b></div><div class=\"sk-container\" hidden><div class=\"sk-item\"><div class=\"sk-estimator sk-toggleable\"><input class=\"sk-toggleable__control sk-hidden--visually\" id=\"sk-estimator-id-8\" type=\"checkbox\" checked><label for=\"sk-estimator-id-8\" class=\"sk-toggleable__label sk-toggleable__label-arrow\">SVC</label><div class=\"sk-toggleable__content\"><pre>SVC(kernel=&#x27;linear&#x27;)</pre></div></div></div></div></div>"
      ],
      "text/plain": [
       "SVC(kernel='linear')"
      ]
     },
     "execution_count": 156,
     "metadata": {},
     "output_type": "execute_result"
    }
   ],
   "source": [
    "clf = svm.SVC(kernel=\"linear\")\n",
    "clf.fit(X_train, y_train)"
   ]
  },
  {
   "cell_type": "code",
   "execution_count": 157,
   "id": "9cede219-8add-4c4d-81eb-21877eadd258",
   "metadata": {},
   "outputs": [
    {
     "name": "stdout",
     "output_type": "stream",
     "text": [
      "accuracy on train: 97.1604447974583 %\n",
      "accuracy on test: 95.87772116720704 %\n"
     ]
    }
   ],
   "source": [
    "print(f\"accuracy on train: {calculate_accuracy(clf, X_train, y_train)} %\")\n",
    "print(f\"accuracy on test: {calculate_accuracy(clf, X_test, y_test)} %\")"
   ]
  },
  {
   "cell_type": "code",
   "execution_count": 158,
   "id": "cc1034f1-4f7e-4406-b938-ee55374c144d",
   "metadata": {},
   "outputs": [
    {
     "name": "stdout",
     "output_type": "stream",
     "text": [
      "number of support vectors:\n",
      "597\n"
     ]
    }
   ],
   "source": [
    "print(\"number of support vectors:\")\n",
    "print(len(clf.support_vectors_))"
   ]
  },
  {
   "cell_type": "markdown",
   "id": "982dc18d-2222-438d-ae29-d51d7dc7f517",
   "metadata": {},
   "source": [
    "--------------"
   ]
  },
  {
   "cell_type": "markdown",
   "id": "8b25bed4-83bc-4252-b627-c38bbee4ea1c",
   "metadata": {},
   "source": [
    "# b) Linear soft svm"
   ]
  },
  {
   "cell_type": "code",
   "execution_count": 159,
   "id": "86d01fb1-6a3c-4763-be67-db9c4ca93d8f",
   "metadata": {},
   "outputs": [],
   "source": [
    "X_train, X_test, y_train, y_test = train_test_split(X, y, test_size=0.2, random_state=42)\n",
    "X_train, X_val, y_train, y_val = train_test_split(X_train, y_train, test_size=0.3, random_state=42)"
   ]
  },
  {
   "cell_type": "code",
   "execution_count": 160,
   "id": "64923a7d-99cb-4b92-abc2-36e9e53cadb8",
   "metadata": {},
   "outputs": [
    {
     "data": {
      "text/plain": [
       "((4029, 23), (1439, 23), (1727, 23))"
      ]
     },
     "execution_count": 160,
     "metadata": {},
     "output_type": "execute_result"
    }
   ],
   "source": [
    "X_train.shape, X_test.shape, X_val.shape"
   ]
  },
  {
   "cell_type": "code",
   "execution_count": 161,
   "id": "e294a6ee-8576-4abc-a412-15ac2318888e",
   "metadata": {},
   "outputs": [],
   "source": [
    "result = []\n",
    "C_s = list(np.logspace(-3, 2, 20))\n",
    "for c in C_s:\n",
    "    clf = svm.SVC(kernel=\"linear\", C=c)\n",
    "    clf.fit(X_train, y_train)   \n",
    "    result.append(calculate_accuracy(clf, X_val, y_val))"
   ]
  },
  {
   "cell_type": "code",
   "execution_count": 162,
   "id": "cb8c972e-71fb-4b98-b62d-87920a98e30b",
   "metadata": {},
   "outputs": [
    {
     "data": {
      "text/plain": [
       "[<matplotlib.lines.Line2D at 0x7f542c22ecb0>]"
      ]
     },
     "execution_count": 162,
     "metadata": {},
     "output_type": "execute_result"
    },
    {
     "data": {
      "image/png": "[encoded data removed]",
      "text/plain": [
       "<Figure size 640x480 with 1 Axes>"
      ]
     },
     "metadata": {},
     "output_type": "display_data"
    }
   ],
   "source": [
    "fig, ax0 = plt.subplots()\n",
    "ax0.set_xscale('log')\n",
    "ax0.plot(C_s, result)"
   ]
  },
  {
   "cell_type": "code",
   "execution_count": 163,
   "id": "0df21b26-40bd-402f-b2df-e9c0d5cf8f57",
   "metadata": {},
   "outputs": [
    {
     "name": "stdout",
     "output_type": "stream",
     "text": [
      "best C = 29.763514416313193\n"
     ]
    }
   ],
   "source": [
    "C_best = C_s[np.argmax(result)]\n",
    "print(f\"best C = {C_best}\")"
   ]
  },
  {
   "cell_type": "code",
   "execution_count": 164,
   "id": "b0d03e76-c304-4881-b0bb-b2e8f874446f",
   "metadata": {},
   "outputs": [
    {
     "data": {
      "text/html": [
       "<style>#sk-container-id-9 {color: black;background-color: white;}#sk-container-id-9 pre{padding: 0;}#sk-container-id-9 div.sk-toggleable {background-color: white;}#sk-container-id-9 label.sk-toggleable__label {cursor: pointer;display: block;width: 100%;margin-bottom: 0;padding: 0.3em;box-sizing: border-box;text-align: center;}#sk-container-id-9 label.sk-toggleable__label-arrow:before {content: \"▸\";float: left;margin-right: 0.25em;color: #696969;}#sk-container-id-9 label.sk-toggleable__label-arrow:hover:before {color: black;}#sk-container-id-9 div.sk-estimator:hover label.sk-toggleable__label-arrow:before {color: black;}#sk-container-id-9 div.sk-toggleable__content {max-height: 0;max-width: 0;overflow: hidden;text-align: left;background-color: #f0f8ff;}#sk-container-id-9 div.sk-toggleable__content pre {margin: 0.2em;color: black;border-radius: 0.25em;background-color: #f0f8ff;}#sk-container-id-9 input.sk-toggleable__control:checked~div.sk-toggleable__content {max-height: 200px;max-width: 100%;overflow: auto;}#sk-container-id-9 input.sk-toggleable__control:checked~label.sk-toggleable__label-arrow:before {content: \"▾\";}#sk-container-id-9 div.sk-estimator input.sk-toggleable__control:checked~label.sk-toggleable__label {background-color: #d4ebff;}#sk-container-id-9 div.sk-label input.sk-toggleable__control:checked~label.sk-toggleable__label {background-color: #d4ebff;}#sk-container-id-9 input.sk-hidden--visually {border: 0;clip: rect(1px 1px 1px 1px);clip: rect(1px, 1px, 1px, 1px);height: 1px;margin: -1px;overflow: hidden;padding: 0;position: absolute;width: 1px;}#sk-container-id-9 div.sk-estimator {font-family: monospace;background-color: #f0f8ff;border: 1px dotted black;border-radius: 0.25em;box-sizing: border-box;margin-bottom: 0.5em;}#sk-container-id-9 div.sk-estimator:hover {background-color: #d4ebff;}#sk-container-id-9 div.sk-parallel-item::after {content: \"\";width: 100%;border-bottom: 1px solid gray;flex-grow: 1;}#sk-container-id-9 div.sk-label:hover label.sk-toggleable__label {background-color: #d4ebff;}#sk-container-id-9 div.sk-serial::before {content: \"\";position: absolute;border-left: 1px solid gray;box-sizing: border-box;top: 0;bottom: 0;left: 50%;z-index: 0;}#sk-container-id-9 div.sk-serial {display: flex;flex-direction: column;align-items: center;background-color: white;padding-right: 0.2em;padding-left: 0.2em;position: relative;}#sk-container-id-9 div.sk-item {position: relative;z-index: 1;}#sk-container-id-9 div.sk-parallel {display: flex;align-items: stretch;justify-content: center;background-color: white;position: relative;}#sk-container-id-9 div.sk-item::before, #sk-container-id-9 div.sk-parallel-item::before {content: \"\";position: absolute;border-left: 1px solid gray;box-sizing: border-box;top: 0;bottom: 0;left: 50%;z-index: -1;}#sk-container-id-9 div.sk-parallel-item {display: flex;flex-direction: column;z-index: 1;position: relative;background-color: white;}#sk-container-id-9 div.sk-parallel-item:first-child::after {align-self: flex-end;width: 50%;}#sk-container-id-9 div.sk-parallel-item:last-child::after {align-self: flex-start;width: 50%;}#sk-container-id-9 div.sk-parallel-item:only-child::after {width: 0;}#sk-container-id-9 div.sk-dashed-wrapped {border: 1px dashed gray;margin: 0 0.4em 0.5em 0.4em;box-sizing: border-box;padding-bottom: 0.4em;background-color: white;}#sk-container-id-9 div.sk-label label {font-family: monospace;font-weight: bold;display: inline-block;line-height: 1.2em;}#sk-container-id-9 div.sk-label-container {text-align: center;}#sk-container-id-9 div.sk-container {/* jupyter's `normalize.less` sets `[hidden] { display: none; }` but bootstrap.min.css set `[hidden] { display: none !important; }` so we also need the `!important` here to be able to override the default hidden behavior on the sphinx rendered scikit-learn.org. See: https://github.com/scikit-learn/scikit-learn/issues/21755 */display: inline-block !important;position: relative;}#sk-container-id-9 div.sk-text-repr-fallback {display: none;}</style><div id=\"sk-container-id-9\" class=\"sk-top-container\"><div class=\"sk-text-repr-fallback\"><pre>SVC(C=29.763514416313193, kernel=&#x27;linear&#x27;)</pre><b>In a Jupyter environment, please rerun this cell to show the HTML representation or trust the notebook. <br />On GitHub, the HTML representation is unable to render, please try loading this page with nbviewer.org.</b></div><div class=\"sk-container\" hidden><div class=\"sk-item\"><div class=\"sk-estimator sk-toggleable\"><input class=\"sk-toggleable__control sk-hidden--visually\" id=\"sk-estimator-id-9\" type=\"checkbox\" checked><label for=\"sk-estimator-id-9\" class=\"sk-toggleable__label sk-toggleable__label-arrow\">SVC</label><div class=\"sk-toggleable__content\"><pre>SVC(C=29.763514416313193, kernel=&#x27;linear&#x27;)</pre></div></div></div></div></div>"
      ],
      "text/plain": [
       "SVC(C=29.763514416313193, kernel='linear')"
      ]
     },
     "execution_count": 164,
     "metadata": {},
     "output_type": "execute_result"
    }
   ],
   "source": [
    "clf = svm.SVC(kernel=\"linear\", C=C_best)\n",
    "clf.fit(X_train, y_train)"
   ]
  },
  {
   "cell_type": "code",
   "execution_count": 165,
   "id": "0cff7a80-fe16-4845-964d-fcf2edf5a514",
   "metadata": {},
   "outputs": [
    {
     "name": "stdout",
     "output_type": "stream",
     "text": [
      "accuracy on train: 97.74137503102507 %\n",
      "accuracy on test: 97.28978457261988 %\n"
     ]
    }
   ],
   "source": [
    "print(f\"accuracy on train: {calculate_accuracy(clf, X_train, y_train)} %\")\n",
    "print(f\"accuracy on test: {calculate_accuracy(clf, X_test, y_test)} %\")"
   ]
  },
  {
   "cell_type": "code",
   "execution_count": 166,
   "id": "078cbd38-06a5-4430-899f-5cdc69eda9af",
   "metadata": {},
   "outputs": [
    {
     "name": "stdout",
     "output_type": "stream",
     "text": [
      "number of support vectors:\n",
      "322\n"
     ]
    }
   ],
   "source": [
    "print(\"number of support vectors:\")\n",
    "print(len(clf.support_vectors_))"
   ]
  },
  {
   "cell_type": "markdown",
   "id": "413aa4ae-73d5-47ef-902f-62d79dd31451",
   "metadata": {},
   "source": [
    "---------------------"
   ]
  },
  {
   "cell_type": "markdown",
   "id": "3288c2b8-76e2-436a-87d4-4c65c475ed45",
   "metadata": {},
   "source": [
    "# C) Hard svm with rbf kernel"
   ]
  },
  {
   "cell_type": "code",
   "execution_count": 167,
   "id": "687fecda-758c-4252-a67d-b98e2c18f645",
   "metadata": {},
   "outputs": [],
   "source": [
    "X_train, X_test, y_train, y_test = train_test_split(X, y, test_size=0.3, random_state=42)"
   ]
  },
  {
   "cell_type": "code",
   "execution_count": 168,
   "id": "c854bf99-a41c-4997-8e75-39f1a449255d",
   "metadata": {
    "tags": []
   },
   "outputs": [
    {
     "name": "stdout",
     "output_type": "stream",
     "text": [
      "accuracy on train: 87.5297855440826 %\n",
      "accuracy on test: 86.24363131079204 %\n",
      "number of support vectors:\n",
      "1395\n"
     ]
    }
   ],
   "source": [
    "clf = svm.SVC(kernel=\"rbf\")\n",
    "clf.fit(X_train, y_train)\n",
    "print(f\"accuracy on train: {calculate_accuracy(clf, X_train, y_train)} %\")\n",
    "print(f\"accuracy on test: {calculate_accuracy(clf, X_test, y_test)} %\")\n",
    "print(\"number of support vectors:\")\n",
    "print(len(clf.support_vectors_))"
   ]
  },
  {
   "cell_type": "code",
   "execution_count": 169,
   "id": "f3493a7e-952b-48f8-9b26-fe60684c938e",
   "metadata": {},
   "outputs": [
    {
     "name": "stdout",
     "output_type": "stream",
     "text": [
      "accuracy on train: 85.34551231135822 %\n",
      "accuracy on test: 84.52987494210282 %\n",
      "number of support vectors:\n",
      "1815\n"
     ]
    }
   ],
   "source": [
    "clf = svm.SVC(kernel=\"poly\")\n",
    "clf.fit(X_train, y_train)\n",
    "print(f\"accuracy on train: {calculate_accuracy(clf, X_train, y_train)} %\")\n",
    "print(f\"accuracy on test: {calculate_accuracy(clf, X_test, y_test)} %\")\n",
    "print(\"number of support vectors:\")\n",
    "print(len(clf.support_vectors_))"
   ]
  },
  {
   "cell_type": "markdown",
   "id": "6f76d14e-1679-49d4-bd3b-feaeb870900c",
   "metadata": {},
   "source": [
    "----------------"
   ]
  },
  {
   "cell_type": "markdown",
   "id": "17d440ab-d37f-425d-9401-0148b539b49f",
   "metadata": {},
   "source": [
    "# D) Soft svm with rbf kernel"
   ]
  },
  {
   "cell_type": "code",
   "execution_count": 170,
   "id": "63c3fbd8-1138-41c8-aa9a-e1918e37ea94",
   "metadata": {},
   "outputs": [],
   "source": [
    "X_train, X_test, y_train, y_test = train_test_split(X, y, test_size=0.2, random_state=42)\n",
    "X_train, X_val, y_train, y_val = train_test_split(X_train, y_train, test_size=0.3, random_state=42)"
   ]
  },
  {
   "cell_type": "code",
   "execution_count": 171,
   "id": "2a855608-5be1-4218-b934-8ce987d4b5ad",
   "metadata": {},
   "outputs": [
    {
     "data": {
      "text/plain": [
       "((4029, 23), (1439, 23), (1727, 23))"
      ]
     },
     "execution_count": 171,
     "metadata": {},
     "output_type": "execute_result"
    }
   ],
   "source": [
    "X_train.shape, X_test.shape, X_val.shape"
   ]
  },
  {
   "cell_type": "code",
   "execution_count": 172,
   "id": "8fd3863c-beb9-471a-a182-0a21575b98ac",
   "metadata": {},
   "outputs": [],
   "source": [
    "result = []\n",
    "C_s = list(np.logspace(-3, 2, 20))\n",
    "for c in C_s:\n",
    "    clf = svm.SVC(kernel=\"rbf\", C=c)\n",
    "    clf.fit(X_train, y_train)   \n",
    "    result.append(calculate_accuracy(clf, X_val, y_val))"
   ]
  },
  {
   "cell_type": "code",
   "execution_count": 173,
   "id": "6c230232-29d7-41ae-82ef-8593b1d21945",
   "metadata": {},
   "outputs": [
    {
     "data": {
      "text/plain": [
       "[<matplotlib.lines.Line2D at 0x7f542c0582e0>]"
      ]
     },
     "execution_count": 173,
     "metadata": {},
     "output_type": "execute_result"
    },
    {
     "data": {
      "image/png": "[encoded data removed]",
      "text/plain": [
       "<Figure size 640x480 with 1 Axes>"
      ]
     },
     "metadata": {},
     "output_type": "display_data"
    }
   ],
   "source": [
    "fig, ax0 = plt.subplots()\n",
    "ax0.set_xscale('log')\n",
    "ax0.plot(C_s, result)"
   ]
  },
  {
   "cell_type": "code",
   "execution_count": 174,
   "id": "0367e66c-c28b-414a-924f-42e4684a7541",
   "metadata": {},
   "outputs": [
    {
     "name": "stdout",
     "output_type": "stream",
     "text": [
      "best C = 54.555947811685144\n"
     ]
    }
   ],
   "source": [
    "C_best = C_s[np.argmax(result)]\n",
    "print(f\"best C = {C_best}\")"
   ]
  },
  {
   "cell_type": "code",
   "execution_count": 175,
   "id": "26581bb8-769c-4cb1-8e46-f3d6a5348de6",
   "metadata": {},
   "outputs": [
    {
     "name": "stdout",
     "output_type": "stream",
     "text": [
      "accuracy on train: 99.82625961777116 %\n",
      "accuracy on test: 99.79152189020152 %\n",
      "number of support vectors:\n",
      "341\n"
     ]
    }
   ],
   "source": [
    "clf = svm.SVC(kernel=\"rbf\", C=C_best)\n",
    "clf.fit(X_train, y_train)\n",
    "print(f\"accuracy on train: {calculate_accuracy(clf, X_train, y_train)} %\")\n",
    "print(f\"accuracy on test: {calculate_accuracy(clf, X_test, y_test)} %\")\n",
    "print(\"number of support vectors:\")\n",
    "print(len(clf.support_vectors_))"
   ]
  },
  {
   "cell_type": "markdown",
   "id": "8550aaee-f05f-4aa2-bb83-7d4a103acb9d",
   "metadata": {},
   "source": [
    "--------------"
   ]
  },
  {
   "cell_type": "code",
   "execution_count": 176,
   "id": "f17436fb-b5e6-49d5-84b7-efefcefa64fe",
   "metadata": {
    "tags": []
   },
   "outputs": [],
   "source": [
    "def cross_val_predict(model, kfold : KFold, X : np.array, y : np.array):\n",
    "\n",
    "    model_ = cp.deepcopy(model)\n",
    "        \n",
    "    actual_classes = np.empty([0], dtype=int)\n",
    "    predicted_classes = np.empty([0], dtype=int)\n",
    "    accuracy = np.empty([0], dtype=int)\n",
    "\n",
    "    for train_ndx, test_ndx in kfold.split(X):\n",
    "        # Extracts the rows from the data for the training and testing\n",
    "        train_X, train_y, test_X, test_y = X[train_ndx], y[train_ndx], X[test_ndx], y[test_ndx]\n",
    "        # Appends the actual target classifications to actual_classes\n",
    "        actual_classes = np.append(actual_classes, test_y)\n",
    "        # Fits the machine learning model using the training data extracted from the current fold\n",
    "        model_.fit(train_X, train_y)\n",
    "        # Uses the fitted model to predict the target classifications for the test data in the current fold\n",
    "        predicted_classes = np.append(predicted_classes, model_.predict(test_X))\n",
    "        accuracy = np.append(accuracy, accuracy_score(actual_classes, predicted_classes))\n",
    "        \n",
    "    return actual_classes, predicted_classes, accuracy.mean(), model_"
   ]
  },
  {
   "cell_type": "code",
   "execution_count": 177,
   "id": "ee222826-290a-4a5d-b72f-a1bb2da27731",
   "metadata": {},
   "outputs": [],
   "source": [
    "X_train, X_test, y_train, y_test = train_test_split(X, y, test_size=0.2, random_state=42)\n",
    "X_train, X_val, y_train, y_val = train_test_split(X_train, y_train, test_size=0.3, random_state=42)"
   ]
  },
  {
   "cell_type": "code",
   "execution_count": 178,
   "id": "6bf59c12-3620-42d1-988a-79e7b291fc7f",
   "metadata": {},
   "outputs": [
    {
     "data": {
      "text/plain": [
       "((4029, 23), (1439, 23), (1727, 23))"
      ]
     },
     "execution_count": 178,
     "metadata": {},
     "output_type": "execute_result"
    }
   ],
   "source": [
    "X_train.shape, X_test.shape, X_val.shape"
   ]
  },
  {
   "cell_type": "code",
   "execution_count": 179,
   "id": "96aaa1ec-6fa1-4bad-8f91-966bb4d246b5",
   "metadata": {},
   "outputs": [],
   "source": [
    "result = []\n",
    "C_s = list(np.logspace(-3, 2, 20))\n",
    "for c in C_s:\n",
    "    clf = svm.SVC(kernel=\"rbf\", C=c)\n",
    "    clf.fit(X_train, y_train)   \n",
    "    result.append(calculate_accuracy(clf, X_val, y_val))"
   ]
  },
  {
   "cell_type": "code",
   "execution_count": 180,
   "id": "4b2e4194-680d-4027-8d40-6f217e797af6",
   "metadata": {},
   "outputs": [
    {
     "data": {
      "text/plain": [
       "[<matplotlib.lines.Line2D at 0x7f542cc22aa0>]"
      ]
     },
     "execution_count": 180,
     "metadata": {},
     "output_type": "execute_result"
    },
    {
     "data": {
      "image/png": "[encoded data removed]",
      "text/plain": [
       "<Figure size 640x480 with 1 Axes>"
      ]
     },
     "metadata": {},
     "output_type": "display_data"
    }
   ],
   "source": [
    "fig, ax0 = plt.subplots()\n",
    "ax0.set_xscale('log')\n",
    "ax0.plot(C_s, result)"
   ]
  },
  {
   "cell_type": "code",
   "execution_count": 181,
   "id": "626ff691-088c-4a3a-85db-7d423783c86c",
   "metadata": {},
   "outputs": [
    {
     "name": "stdout",
     "output_type": "stream",
     "text": [
      "best C = 54.555947811685144\n"
     ]
    }
   ],
   "source": [
    "C_best = C_s[np.argmax(result)]\n",
    "print(f\"best C = {C_best}\")"
   ]
  },
  {
   "cell_type": "code",
   "execution_count": null,
   "id": "154ecd29-ba7e-4387-8382-449e57f4faef",
   "metadata": {},
   "outputs": [
    {
     "name": "stdout",
     "output_type": "stream",
     "text": [
      "accuracy on train: 99.8758997269794 %\n",
      "accuracy on test: 99.93050729673384 %\n",
      "number of support vectors:\n",
      "398\n"
     ]
    },
    {
     "name": "stderr",
     "output_type": "stream",
     "text": [
      "/home/hosna/.local/lib/python3.10/site-packages/sklearn/base.py:443: UserWarning: X has feature names, but SVC was fitted without feature names\n",
      "  warnings.warn(\n",
      "/home/hosna/.local/lib/python3.10/site-packages/sklearn/base.py:443: UserWarning: X has feature names, but SVC was fitted without feature names\n",
      "  warnings.warn(\n"
     ]
    }
   ],
   "source": [
    "model = svm.SVC(kernel=\"rbf\", C=C_best)\n",
    "kfold = KFold(n_splits=5, random_state=42, shuffle=True)\n",
    "actual_classes, predicted_classes, accuracy, clf = cross_val_predict(model, kfold, X.to_numpy(), y.to_numpy())\n",
    "\n",
    "print(f\"accuracy on train: {calculate_accuracy(clf, X_train, y_train)} %\")\n",
    "print(f\"accuracy on test: {calculate_accuracy(clf, X_test, y_test)} %\")\n",
    "print(\"number of support vectors:\")\n",
    "print(len(clf.support_vectors_))"
   ]
  },
  {
   "cell_type": "code",
   "execution_count": null,
   "id": "e8a3523a-a09e-4691-8b68-a31a6e852692",
   "metadata": {},
   "outputs": [],
   "source": []
  }
 ],
 "metadata": {
  "kernelspec": {
   "display_name": "Python 3 (ipykernel)",
   "language": "python",
   "name": "python3"
  },
  "language_info": {
   "codemirror_mode": {
    "name": "ipython",
    "version": 3
   },
   "file_extension": ".py",
   "mimetype": "text/x-python",
   "name": "python",
   "nbconvert_exporter": "python",
   "pygments_lexer": "ipython3",
   "version": "3.10.6"
  }
 },
 "nbformat": 4,
 "nbformat_minor": 5
}
